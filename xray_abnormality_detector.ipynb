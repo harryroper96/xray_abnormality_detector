{
 "cells": [
  {
   "cell_type": "code",
   "execution_count": 9,
   "id": "robust-engine",
   "metadata": {},
   "outputs": [],
   "source": [
    "import time\n",
    "from zipfile import ZipFile\n",
    "import pandas as pd\n",
    "import numpy as np\n",
    "from progressbar import ProgressBar, Bar, Percentage\n",
    "import os\n",
    "import cv2\n",
    "from PIL import Image\n",
    "\n",
    "from matplotlib import pyplot as plt"
   ]
  },
  {
   "cell_type": "code",
   "execution_count": 2,
   "id": "responsible-disability",
   "metadata": {},
   "outputs": [],
   "source": [
    "with ZipFile('xray_images.zip', 'r') as zip_ref:\n",
    "    zip_ref.extractall('xray_images')"
   ]
  },
  {
   "cell_type": "code",
   "execution_count": 3,
   "id": "greater-deficit",
   "metadata": {},
   "outputs": [],
   "source": [
    "def encode_images():\n",
    "    filenames = []\n",
    "    X = []\n",
    "\n",
    "    directories = ['xray_images/ChinaSet_AllFiles/ChinaSet_AllFiles/CXR_png/', \n",
    "                  'xray_images/Montgomery/MontgomerySet/CXR_png/']\n",
    "    n_files = 0\n",
    "\n",
    "    for directory in directories:\n",
    "        n_files += len(os.listdir(directory))\n",
    "\n",
    "    counter = 0\n",
    "\n",
    "    bar = ProgressBar(maxval=n_files+1, widgets=[Bar('=', '[', ']'), ' ', Percentage()])\n",
    "    bar.start()\n",
    "\n",
    "    for directory in directories:\n",
    "        for filename in os.listdir(directory):\n",
    "            if filename.endswith('.png'):\n",
    "                filenames.append(filename)\n",
    "                X.append(cv2.imread(directory + filename))\n",
    "                counter += 1\n",
    "                bar.update(counter)\n",
    "\n",
    "    bar.finish()\n",
    "\n",
    "    y = [int(filename[-5]) for filename in filenames]\n",
    "    \n",
    "    return X, y"
   ]
  },
  {
   "cell_type": "code",
   "execution_count": 4,
   "id": "several-biography",
   "metadata": {},
   "outputs": [
    {
     "name": "stderr",
     "output_type": "stream",
     "text": [
      "[========================================================================] 100%\n"
     ]
    }
   ],
   "source": [
    "X, y = encode_images()"
   ]
  },
  {
   "cell_type": "code",
   "execution_count": 5,
   "id": "amazing-evaluation",
   "metadata": {},
   "outputs": [],
   "source": [
    "def plot_dimensions(X):\n",
    "    widths = [i.shape[0] for i in X]\n",
    "    heights = [i.shape[1] for i in X]\n",
    "    depths = [i.shape[2] for i in X]\n",
    "    \n",
    "    dimensions = [widths, heights, depths]\n",
    "    \n",
    "    fig = plt.figure(figsize=(14, 4))\n",
    "    for i in range(len(dimensions)):\n",
    "        print((min(dimensions[i]), max(dimensions[i])), min(dimensions[i]) == max(dimensions[i]))\n",
    "        ax = fig.add_subplot(1, 3, i+1)\n",
    "        ax.hist(dimensions[i], bins=20)\n",
    "    \n",
    "    plt.show()\n",
    "    "
   ]
  },
  {
   "cell_type": "code",
   "execution_count": 6,
   "id": "equivalent-tucson",
   "metadata": {},
   "outputs": [
    {
     "name": "stdout",
     "output_type": "stream",
     "text": [
      "(948, 4892) False\n",
      "(1130, 4892) False\n",
      "(3, 3) True\n"
     ]
    },
    {
     "data": {
      "image/png": "[encoded data removed]",
      "text/plain": [
       "<Figure size 1008x288 with 3 Axes>"
      ]
     },
     "metadata": {
      "needs_background": "light"
     },
     "output_type": "display_data"
    }
   ],
   "source": [
    "plot_dimensions(X)"
   ]
  },
  {
   "cell_type": "code",
   "execution_count": 8,
   "id": "driving-membrane",
   "metadata": {},
   "outputs": [
    {
     "data": {
      "text/plain": [
       "948"
      ]
     },
     "execution_count": 8,
     "metadata": {},
     "output_type": "execute_result"
    }
   ],
   "source": [
    "widths = [i.shape[0] for i in X]\n",
    "heights = [i.shape[1] for i in X]\n",
    "min(min(widths), min(heights))"
   ]
  },
  {
   "cell_type": "code",
   "execution_count": 16,
   "id": "brief-enhancement",
   "metadata": {},
   "outputs": [],
   "source": [
    "def resize_encode_images():\n",
    "    filenames = []\n",
    "    X = []\n",
    "\n",
    "    directories = ['xray_images/ChinaSet_AllFiles/ChinaSet_AllFiles/CXR_png/', \n",
    "                  'xray_images/Montgomery/MontgomerySet/CXR_png/']\n",
    "    n_files = 0\n",
    "\n",
    "    for directory in directories:\n",
    "        n_files += len(os.listdir(directory))\n",
    "\n",
    "    counter = 0\n",
    "\n",
    "    bar = ProgressBar(maxval=n_files+1, widgets=[Bar('=', '[', ']'), ' ', Percentage()])\n",
    "    bar.start()\n",
    "\n",
    "    for directory in directories:\n",
    "        for filename in os.listdir(directory):\n",
    "            if filename.endswith('.png'):\n",
    "                filenames.append(filename)\n",
    "                img = Image.open(directory + filename)\n",
    "                img = img.resize((1024, 1024))\n",
    "                img.save(directory + filename)\n",
    "                X.append(cv2.imread(directory + filename))\n",
    "                counter += 1\n",
    "                bar.update(counter)\n",
    "\n",
    "    bar.finish()\n",
    "\n",
    "    y = [int(filename[-5]) for filename in filenames]\n",
    "    \n",
    "    return X, y"
   ]
  },
  {
   "cell_type": "code",
   "execution_count": 17,
   "id": "violent-vehicle",
   "metadata": {},
   "outputs": [
    {
     "name": "stderr",
     "output_type": "stream",
     "text": [
      "[========================================================================] 100%\n"
     ]
    }
   ],
   "source": [
    "X, y = resize_encode_images()"
   ]
  },
  {
   "cell_type": "code",
   "execution_count": 18,
   "id": "green-database",
   "metadata": {},
   "outputs": [
    {
     "name": "stdout",
     "output_type": "stream",
     "text": [
      "(1024, 1024) True\n",
      "(1024, 1024) True\n",
      "(3, 3) True\n"
     ]
    },
    {
     "data": {
      "image/png": "[encoded data removed]",
      "text/plain": [
       "<Figure size 1008x288 with 3 Axes>"
      ]
     },
     "metadata": {
      "needs_background": "light"
     },
     "output_type": "display_data"
    }
   ],
   "source": [
    "plot_dimensions(X)"
   ]
  }
 ],
 "metadata": {
  "kernelspec": {
   "display_name": "Python 3",
   "language": "python",
   "name": "python3"
  },
  "language_info": {
   "codemirror_mode": {
    "name": "ipython",
    "version": 3
   },
   "file_extension": ".py",
   "mimetype": "text/x-python",
   "name": "python",
   "nbconvert_exporter": "python",
   "pygments_lexer": "ipython3",
   "version": "3.7.9"
  }
 },
 "nbformat": 4,
 "nbformat_minor": 5
}
